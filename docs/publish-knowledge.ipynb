{
 "cells": [
  {
   "cell_type": "markdown",
   "metadata": {},
   "source": [
    "## Publish a Translator edge to the Knowledge Collaboratory\n",
    "\n",
    "https://github.com/fair-workflows/Nanopub\n",
    "\n",
    "Install `rdflib` and `nanopub` packages:\n",
    "\n",
    "```bash\n",
    "pip install -r requirements.txt\n",
    "```\n",
    "\n",
    "You will need to setup the Nanopublication client to publish, run this interactive command to do so:\n",
    "\n",
    "```bash\n",
    "setup_nanopub_profile\n",
    "```\n",
    "\n",
    "> This should create a `.nanopub` folder in your home folder with your RSA key and a `profile.yml`"
   ]
  },
  {
   "cell_type": "code",
   "execution_count": 33,
   "metadata": {},
   "outputs": [],
   "source": [
    "edge_to_publish = {\n",
    "  \"association_type\": \"biolink:ChemicalToDiseaseOrPhenotypicFeatureAssociation\",\n",
    "  \"has_confidence_level\": 0.6970851597240628,\n",
    "  \"object\": \"DRUGBANK:DB00394\",\n",
    "  \"predicate\": \"biolink:treated_by\",\n",
    "  \"provided_by\": \"Translator OpenPredict model openpredict-baseline-omim-drugbank\",\n",
    "  \"subject\": \"OMIM:601626\"\n",
    "}\n",
    "comment = 'This statement is false'\n",
    "negated = True\n",
    "evidence = 'https://pubmed.ncbi.nlm.nih.gov/3159979/'"
   ]
  },
  {
   "cell_type": "code",
   "execution_count": 34,
   "metadata": {
    "tags": []
   },
   "outputs": [
    {
     "output_type": "stream",
     "name": "stdout",
     "text": [
      "Original source URI = None\n@prefix : <http://purl.org/nanopub/temp/mynanopub#> .\n@prefix biolink: <https://w3id.org/biolink/vocab/> .\n@prefix np: <http://www.nanopub.org/nschema#> .\n@prefix prov: <http://www.w3.org/ns/prov#> .\n@prefix rdf: <http://www.w3.org/1999/02/22-rdf-syntax-ns#> .\n@prefix rdfs: <http://www.w3.org/2000/01/rdf-schema#> .\n@prefix xsd: <http://www.w3.org/2001/XMLSchema#> .\n\n:assertion {\n    :comment a rdf:Statement ;\n        rdfs:comment \"\" ;\n        rdfs:seeAlso :edge ;\n        biolink:has_evidence <> ;\n        biolink:negated true .\n\n    :edge biolink:association_type \"biolink:ChemicalToDiseaseOrPhenotypicFeatureAssociation\" ;\n        biolink:has_confidence_level 6.970852e-01 ;\n        biolink:object \"DRUGBANK:DB00394\" ;\n        biolink:predicate \"biolink:treated_by\" ;\n        biolink:provided_by \"Translator OpenPredict model openpredict-baseline-omim-drugbank\" ;\n        biolink:subject \"OMIM:601626\" .\n}\n\n:pubInfo {\n    : prov:generatedAtTime \"2021-02-02T21:40:24.944684\"^^xsd:dateTime ;\n        prov:wasAttributedTo <https://orcid.org/1234-1234-1234-1234> .\n}\n\n:Head {\n    : a np:Nanopublication ;\n        np:hasAssertion :assertion ;\n        np:hasProvenance :provenance ;\n        np:hasPublicationInfo :pubInfo .\n}\n\n:provenance {\n    :assertion prov:generatedAtTime \"2021-02-02T21:40:24.944684\"^^xsd:dateTime .\n}\n\n\n"
     ]
    }
   ],
   "source": [
    "import json \n",
    "import requests\n",
    "from nanopub import Publication, NanopubClient\n",
    "from rdflib import Graph, Namespace, URIRef, Literal, RDF, FOAF, RDFS, XSD\n",
    "BIOLINK = Namespace(\"https://w3id.org/biolink/vocab/\")\n",
    "NP = Namespace(\"http://purl.org/nanopub/temp/mynanopub#\")\n",
    "nanopub_rdf = Graph()\n",
    "nanopub_rdf.bind(\"biolink\", URIRef('https://w3id.org/biolink/vocab/'))\n",
    "\n",
    "# Add edge data\n",
    "edge_uri = NP['edge']\n",
    "# nanopub_rdf.add( (edge_uri, RDF.type, RDF.Statement ) )\n",
    "for prop, value in edge_to_publish.items():\n",
    "    nanopub_rdf.add( (edge_uri, BIOLINK[prop], Literal(value) ) )\n",
    "\n",
    "# Add user comment\n",
    "comment_uri = NP['comment']\n",
    "nanopub_rdf.add( (comment_uri, RDF.type, RDF.Statement ) )\n",
    "nanopub_rdf.add( (comment_uri, RDFS.seeAlso, edge_uri ) )\n",
    "nanopub_rdf.add( (comment_uri, RDFS.comment, Literal(comment) ) )\n",
    "nanopub_rdf.add( (comment_uri, BIOLINK['negated'], Literal(negated,datatype=XSD.boolean) ) )\n",
    "nanopub_rdf.add( (comment_uri, BIOLINK['has_evidence'], URIRef(evidence) ) )\n",
    "\n",
    "# print(nanopub_rdf.serialize(format='turtle'))\n",
    "publication = Publication.from_assertion(assertion_rdf=nanopub_rdf)\n",
    "print(publication)"
   ]
  },
  {
   "cell_type": "code",
   "execution_count": 35,
   "metadata": {},
   "outputs": [],
   "source": [
    "# Create the client, that allows publishing nanopubs\n",
    "np_client = NanopubClient()"
   ]
  },
  {
   "cell_type": "code",
   "execution_count": 36,
   "metadata": {},
   "outputs": [],
   "source": [
    "# publication_info = np_client.publish(publication)"
   ]
  }
 ],
 "metadata": {
  "kernelspec": {
   "display_name": "Python 3",
   "language": "python",
   "name": "python3"
  },
  "language_info": {
   "codemirror_mode": {
    "name": "ipython",
    "version": 3
   },
   "file_extension": ".py",
   "mimetype": "text/x-python",
   "name": "python",
   "nbconvert_exporter": "python",
   "pygments_lexer": "ipython3",
   "version": "3.6.9-final"
  }
 },
 "nbformat": 4,
 "nbformat_minor": 4
}