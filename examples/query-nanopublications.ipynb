{
 "cells": [
  {
   "cell_type": "markdown",
   "metadata": {},
   "source": [
    "## Publish a Translator edge to the Knowledge Collaboratory\n",
    "\n",
    "Requirements: Java needs to be installed to run the [nanopub client](https://github.com/fair-workflows/Nanopub)\n",
    "\n",
    "Install `rdflib` and `nanopub` packages:\n",
    "\n",
    "```bash\n",
    "pip install -r requirements.txt\n",
    "```\n",
    "\n",
    "You will need to setup the Nanopublication client if you want to publish nanopublications, run this interactive command to do so after installing the `nanopub` package:\n",
    "\n",
    "```bash\n",
    "setup_nanopub_profile\n",
    "```\n",
    "\n",
    "> This should create a `.nanopub` folder in your home folder with your RSA key and a `profile.yml`"
   ]
  },
  {
   "cell_type": "code",
   "execution_count": 1,
   "metadata": {},
   "outputs": [
    {
     "output_type": "stream",
     "name": "stdout",
     "text": [
      "Requirement already satisfied: rdflib in /home/vemonet/.local/lib/python3.8/site-packages (from -r requirements.txt (line 1)) (5.0.0)\n",
      "Requirement already satisfied: nanopub in /home/vemonet/.local/lib/python3.8/site-packages (from -r requirements.txt (line 2)) (1.2.6)\n",
      "Requirement already satisfied: pyparsing in /home/vemonet/.local/lib/python3.8/site-packages (from rdflib->-r requirements.txt (line 1)) (2.4.7)\n",
      "Requirement already satisfied: six in /usr/lib/python3/dist-packages (from rdflib->-r requirements.txt (line 1)) (1.14.0)\n",
      "Requirement already satisfied: isodate in /home/vemonet/.local/lib/python3.8/site-packages (from rdflib->-r requirements.txt (line 1)) (0.6.0)\n",
      "Requirement already satisfied: requests in /usr/lib/python3/dist-packages (from nanopub->-r requirements.txt (line 2)) (2.22.0)\n",
      "Requirement already satisfied: yatiml==0.6.1 in /home/vemonet/.local/lib/python3.8/site-packages (from nanopub->-r requirements.txt (line 2)) (0.6.1)\n",
      "Requirement already satisfied: click in /usr/lib/python3/dist-packages (from nanopub->-r requirements.txt (line 2)) (7.0)\n",
      "Requirement already satisfied: ruamel.yaml<=0.16.10,>=0.15.71 in /home/vemonet/.local/lib/python3.8/site-packages (from yatiml==0.6.1->nanopub->-r requirements.txt (line 2)) (0.16.10)\n",
      "Requirement already satisfied: typing-extensions in /home/vemonet/.local/lib/python3.8/site-packages (from yatiml==0.6.1->nanopub->-r requirements.txt (line 2)) (3.10.0.0)\n",
      "Requirement already satisfied: ruamel.yaml.clib>=0.1.2; platform_python_implementation == \"CPython\" and python_version < \"3.9\" in /home/vemonet/.local/lib/python3.8/site-packages (from ruamel.yaml<=0.16.10,>=0.15.71->yatiml==0.6.1->nanopub->-r requirements.txt (line 2)) (0.2.2)\n"
     ]
    }
   ],
   "source": [
    "!pip3 install -r requirements.txt"
   ]
  },
  {
   "source": [
    "Create the Nanopub client to query the nanopublication network:"
   ],
   "cell_type": "markdown",
   "metadata": {}
  },
  {
   "cell_type": "code",
   "execution_count": 4,
   "metadata": {
    "tags": []
   },
   "outputs": [],
   "source": [
    "from nanopub import NanopubClient\n",
    "client = NanopubClient()"
   ]
  },
  {
   "cell_type": "code",
   "execution_count": 7,
   "metadata": {
    "tags": []
   },
   "outputs": [
    {
     "output_type": "stream",
     "name": "stdout",
     "text": [
      "22 nanopublications found\nNanopublication: http://purl.org/np/RAxGscScCuE1FVHLmYEkRCqs8NRCbKHvQIWwdsFIYgcQo\n"
     ]
    },
    {
     "output_type": "error",
     "ename": "NameError",
     "evalue": "name 'nanopublication' is not defined",
     "traceback": [
      "\u001b[0;31m---------------------------------------------------------------------------\u001b[0m",
      "\u001b[0;31mNameError\u001b[0m                                 Traceback (most recent call last)",
      "\u001b[0;32m<ipython-input-7-c1cdff2c3c5a>\u001b[0m in \u001b[0;36m<module>\u001b[0;34m\u001b[0m\n\u001b[1;32m      7\u001b[0m \u001b[0;32mfor\u001b[0m \u001b[0mnanopub\u001b[0m \u001b[0;32min\u001b[0m \u001b[0mresults\u001b[0m\u001b[0;34m:\u001b[0m\u001b[0;34m\u001b[0m\u001b[0;34m\u001b[0m\u001b[0m\n\u001b[1;32m      8\u001b[0m     \u001b[0mprint\u001b[0m\u001b[0;34m(\u001b[0m\u001b[0;34m'Nanopublication: '\u001b[0m \u001b[0;34m+\u001b[0m \u001b[0mnanopub\u001b[0m\u001b[0;34m[\u001b[0m\u001b[0;34m'np'\u001b[0m\u001b[0;34m]\u001b[0m\u001b[0;34m)\u001b[0m\u001b[0;34m\u001b[0m\u001b[0;34m\u001b[0m\u001b[0m\n\u001b[0;32m----> 9\u001b[0;31m     \u001b[0mprint\u001b[0m\u001b[0;34m(\u001b[0m\u001b[0mnanopublication\u001b[0m\u001b[0;34m)\u001b[0m\u001b[0;34m\u001b[0m\u001b[0;34m\u001b[0m\u001b[0m\n\u001b[0m\u001b[1;32m     10\u001b[0m     \u001b[0mcontent\u001b[0m \u001b[0;34m=\u001b[0m \u001b[0mclient\u001b[0m\u001b[0;34m.\u001b[0m\u001b[0mfetch\u001b[0m\u001b[0;34m(\u001b[0m\u001b[0mnanopub\u001b[0m\u001b[0;34m[\u001b[0m\u001b[0;34m'np'\u001b[0m\u001b[0;34m]\u001b[0m\u001b[0;34m)\u001b[0m\u001b[0;34m\u001b[0m\u001b[0;34m\u001b[0m\u001b[0m\n\u001b[1;32m     11\u001b[0m     \u001b[0mprint\u001b[0m\u001b[0;34m(\u001b[0m\u001b[0mcontent\u001b[0m\u001b[0;34m)\u001b[0m\u001b[0;34m\u001b[0m\u001b[0;34m\u001b[0m\u001b[0m\n",
      "\u001b[0;31mNameError\u001b[0m: name 'nanopublication' is not defined"
     ]
    }
   ],
   "source": [
    "results = client.find_nanopubs_with_pattern(\n",
    "    obj='https://w3id.org/biolink/vocab/treats',\n",
    "    pubkey='MIGfMA0GCSqGSIb3DQEBAQUAA4GNADCBiQKBgQCamPJb4SzqpLXn//XJ5dlVfzz6QI+RPmiJTLXF/by2JR7sHMKRsCQDFsYMlq8zGHghOIkjRP9dpLZUtZzUcHt3MXiFKEPo8eGzUe9p+JXKFC8xxkJr94z2vq6IdMf71Iu1GH8SeDAKt/DgYO4zNaw8VuXvxnZRewKZSA+u8zWPVwIDAQAB'\n",
    ")\n",
    "results = list(results)\n",
    "print(str(len(results)) + ' nanopublications found')\n",
    "for nanopub in results:\n",
    "    print('Nanopublication: ' + nanopub['np'])\n",
    "    print(nanopub)\n",
    "    content = client.fetch(nanopub['np'])\n",
    "    print(content)\n",
    "    break"
   ]
  },
  {
   "cell_type": "code",
   "execution_count": 6,
   "metadata": {},
   "outputs": [
    {
     "output_type": "stream",
     "name": "stdout",
     "text": [
      "32 nanopublications found\n",
      "Nanopublication: http://purl.org/np/RAdDKjIGPt_2mE9oJtB3YQX6wGGdCC8ZWpkxEIoHsxOjE\n",
      "Original source URI = http://purl.org/np/RAdDKjIGPt_2mE9oJtB3YQX6wGGdCC8ZWpkxEIoHsxOjE\n",
      "@prefix dct: <http://purl.org/dc/terms/> .\n",
      "@prefix icc: <https://w3id.org/fair/icc/terms/> .\n",
      "@prefix np: <http://www.nanopub.org/nschema#> .\n",
      "@prefix npx: <http://purl.org/nanopub/x/> .\n",
      "@prefix nt: <https://w3id.org/np/o/ntemplate/> .\n",
      "@prefix orcid: <https://orcid.org/> .\n",
      "@prefix prov: <http://www.w3.org/ns/prov#> .\n",
      "@prefix rdfs: <http://www.w3.org/2000/01/rdf-schema#> .\n",
      "@prefix sub: <http://purl.org/np/RAdDKjIGPt_2mE9oJtB3YQX6wGGdCC8ZWpkxEIoHsxOjE#> .\n",
      "@prefix this: <http://purl.org/np/RAdDKjIGPt_2mE9oJtB3YQX6wGGdCC8ZWpkxEIoHsxOjE> .\n",
      "@prefix xsd: <http://www.w3.org/2001/XMLSchema#> .\n",
      "\n",
      "sub:provenance {\n",
      "    sub:assertion prov:wasAttributedTo orcid:0000-0002-4182-7560 .\n",
      "}\n",
      "\n",
      "sub:Head {\n",
      "    this: a np:Nanopublication ;\n",
      "        np:hasAssertion sub:assertion ;\n",
      "        np:hasProvenance sub:provenance ;\n",
      "        np:hasPublicationInfo sub:pubinfo .\n",
      "}\n",
      "\n",
      "sub:pubinfo {\n",
      "    sub:sig npx:hasAlgorithm \"RSA\" ;\n",
      "        npx:hasPublicKey \"MIGfMA0GCSqGSIb3DQEBAQUAA4GNADCBiQKBgQDHYa4Qlb25/9DnqivTh2kxQMVpFQ0r/cXtOgDQM5dWNrGQVG9RVlXnyt9qowP+k+4bhzcHPQkYWd7YVFBXBFrEnBIReUuRLElYhFrn9jf7w2+YWN8WxKIyBaNZVtgjZpHwGrZOaLOIsl02kEK1G2Qc3FXYCZFWuRJDcafe58eRNQIDAQAB\" ;\n",
      "        npx:hasSignature \"aCUYgYKXkdnKcELn8aKgupTVAPUvpuAO5ZcfFSXLQ5V1KX03cMK4cBA5BKATUwiv2or9SN3b0s1rbxf10xhGccCFMkGf9Mlp1BqND50ep3GcDLzTUKqGkv9mblMPoWAkPgyPXkWa/viEqFILFA6T0GKscJ785wfXS7OtAm8dyqg=\" ;\n",
      "        npx:hasSignatureTarget this: .\n",
      "\n",
      "    this: dct:created \"2020-05-01T10:05:25.575000+02:00\"^^xsd:dateTime ;\n",
      "        dct:creator orcid:0000-0002-4182-7560 ;\n",
      "        nt:wasCreatedFromTemplate <http://purl.org/np/RAtpy2wjYJtUUFDHB_qpSiqNR5ALN9dGHDwS97CWfuVe0> .\n",
      "}\n",
      "\n",
      "sub:assertion {\n",
      "    sub:community a icc:Community ;\n",
      "        rdfs:label \"Virus Outbreak Data Network (VODAN) Implementation Network\" ;\n",
      "        rdfs:comment \"The primary objective of the VODAN Implementation Network is to showcase the creation and deployment of FAIR data related to COVID-19\" ;\n",
      "        rdfs:seeAlso <https://www.go-fair.org/implementation-networks/overview/vodan/> .\n",
      "}\n",
      "\n",
      "\n"
     ]
    }
   ],
   "source": [
    "results = client.find_nanopubs_with_text('fair')\n",
    "results = list(results)\n",
    "print(str(len(results)) + ' nanopublications found')\n",
    "for nanopub in results:\n",
    "    print('Nanopublication: ' + nanopub['np'])\n",
    "    content = client.fetch(nanopub['np'])\n",
    "    print(content)\n",
    "    break"
   ]
  }
 ],
 "metadata": {
  "kernelspec": {
   "display_name": "Python 3",
   "language": "python",
   "name": "python3"
  }
 },
 "nbformat": 4,
 "nbformat_minor": 4
}