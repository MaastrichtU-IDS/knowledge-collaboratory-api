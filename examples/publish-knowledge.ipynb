{
 "cells": [
  {
   "cell_type": "markdown",
   "metadata": {},
   "source": [
    "## Publish a Translator edge to the Knowledge Collaboratory\n",
    "\n",
    "Requirements: Java needs to be installed to run the [nanopub client](https://github.com/fair-workflows/Nanopub)\n",
    "\n",
    "Install `rdflib` and `nanopub` packages:\n",
    "\n",
    "```bash\n",
    "pip install -r requirements.txt\n",
    "```\n",
    "\n",
    "You will need to setup the Nanopublication client to publish, run this interactive command to do so:\n",
    "\n",
    "```bash\n",
    "setup_nanopub_profile\n",
    "```\n",
    "\n",
    "> This should create a `.nanopub` folder in your home folder with your RSA key and a `profile.yml`"
   ]
  },
  {
   "cell_type": "code",
   "execution_count": 9,
   "metadata": {},
   "outputs": [],
   "source": [
    "edge_to_comment = {\n",
    "  \"association_type\": \"biolink:ChemicalToDiseaseOrPhenotypicFeatureAssociation\",\n",
    "  \"has_confidence_level\": 0.6970851597240628,\n",
    "  \"object\": \"DRUGBANK:DB00394\",\n",
    "  \"predicate\": \"biolink:treated_by\",\n",
    "  \"provided_by\": \"Translator OpenPredict model openpredict-baseline-omim-drugbank\",\n",
    "  \"subject\": \"OMIM:601626\"\n",
    "}\n",
    "comment = 'This statement is false'\n",
    "negated = True\n",
    "evidence = 'https://pubmed.ncbi.nlm.nih.gov/3159979/'"
   ]
  },
  {
   "source": [
    "Above code import the [`publish_nanopub.py`](https://github.com/MaastrichtU-IDS/knowledge-collaboratory-api/blob/master/docs/publish_nanopub.py) script from the same directory as the notebook"
   ],
   "cell_type": "markdown",
   "metadata": {}
  },
  {
   "cell_type": "code",
   "execution_count": 10,
   "metadata": {
    "tags": []
   },
   "outputs": [
    {
     "output_type": "stream",
     "name": "stdout",
     "text": [
      "Original source URI = None\n@prefix : <http://purl.org/nanopub/temp/mynanopub#> .\n@prefix biolink: <https://w3id.org/biolink/vocab/> .\n@prefix np: <http://www.nanopub.org/nschema#> .\n@prefix prov: <http://www.w3.org/ns/prov#> .\n@prefix rdf: <http://www.w3.org/1999/02/22-rdf-syntax-ns#> .\n@prefix rdfs: <http://www.w3.org/2000/01/rdf-schema#> .\n@prefix xsd: <http://www.w3.org/2001/XMLSchema#> .\n\n:pubInfo {\n    : prov:generatedAtTime \"2021-02-02T22:17:22.991573\"^^xsd:dateTime ;\n        prov:wasAttributedTo <https://orcid.org/1234-1234-1234-1234> .\n}\n\n:assertion {\n    :comment a rdf:Statement ;\n        rdfs:comment \"This statement is false\" ;\n        biolink:has_evidence <https://pubmed.ncbi.nlm.nih.gov/3159979/> ;\n        biolink:negated true ;\n        biolink:source :edge .\n\n    :edge biolink:association_type \"biolink:ChemicalToDiseaseOrPhenotypicFeatureAssociation\" ;\n        biolink:has_confidence_level 6.970852e-01 ;\n        biolink:object \"DRUGBANK:DB00394\" ;\n        biolink:predicate \"biolink:treated_by\" ;\n        biolink:provided_by \"Translator OpenPredict model openpredict-baseline-omim-drugbank\" ;\n        biolink:subject \"OMIM:601626\" .\n}\n\n:provenance {\n    :assertion prov:generatedAtTime \"2021-02-02T22:17:22.991573\"^^xsd:dateTime .\n}\n\n:Head {\n    : a np:Nanopublication ;\n        np:hasAssertion :assertion ;\n        np:hasProvenance :provenance ;\n        np:hasPublicationInfo :pubInfo .\n}\n\n\n"
     ]
    }
   ],
   "source": [
    "from publish_nanopubs import publish_edge_comment\n",
    "\n",
    "print(publish_edge_comment(edge_to_comment, comment, negated, evidence))"
   ]
  }
 ],
 "metadata": {
  "kernelspec": {
   "display_name": "Python 3",
   "language": "python",
   "name": "python3"
  },
  "language_info": {
   "codemirror_mode": {
    "name": "ipython",
    "version": 3
   },
   "file_extension": ".py",
   "mimetype": "text/x-python",
   "name": "python",
   "nbconvert_exporter": "python",
   "pygments_lexer": "ipython3",
   "version": "3.6.9-final"
  }
 },
 "nbformat": 4,
 "nbformat_minor": 4
}